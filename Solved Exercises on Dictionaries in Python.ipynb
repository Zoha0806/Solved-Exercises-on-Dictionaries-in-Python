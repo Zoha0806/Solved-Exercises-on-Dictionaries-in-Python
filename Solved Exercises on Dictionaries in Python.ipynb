{
 "cells": [
  {
   "cell_type": "code",
   "execution_count": 5,
   "id": "1d8287c6-a257-47f1-aeef-f45b45d67669",
   "metadata": {},
   "outputs": [
    {
     "name": "stdout",
     "output_type": "stream",
     "text": [
      "name: Zoha\n",
      "age: 18\n",
      "city: Lahore\n",
      "hobbies: ['reading', 'poetry', 'cooking']\n"
     ]
    }
   ],
   "source": [
    "# (a) Dictionary to store information about a person.\n",
    "person_info={'name':'Zoha','age':18,'city':'Lahore','hobbies':['reading','poetry','cooking']}\n",
    "for key, value in person_info.items():\n",
    "    print(f\"{key}: {value}\")"
   ]
  },
  {
   "cell_type": "code",
   "execution_count": 17,
   "id": "a646bb91-6ee3-4bf0-ae79-88d09b12d3be",
   "metadata": {},
   "outputs": [
    {
     "name": "stdout",
     "output_type": "stream",
     "text": [
      "{'Poetry': 1, 'can': 2, 'heal': 1, 'the': 2, 'soul': 1, 'It': 2, 'calm': 1, 'mind': 1, 'is': 1, 'a': 1, 'way': 1, 'to': 1}\n"
     ]
    }
   ],
   "source": [
    "# (b) Program to count frequency of words in a text.\n",
    "text=\"Poetry can heal the soul. It can calm the mind. It is a way to heal.\"\n",
    "words_count={}\n",
    "for word in text.split():\n",
    "    words_count[word.strip(',.?')]=words_count.get(word,0)+1\n",
    "print(words_count)"
   ]
  },
  {
   "cell_type": "code",
   "execution_count": 23,
   "id": "ac0ed020-4951-482e-af37-11ec2ed1bb08",
   "metadata": {},
   "outputs": [
    {
     "name": "stdout",
     "output_type": "stream",
     "text": [
      "oil: 15\n",
      "cheese: 25\n",
      "butter: 30\n",
      "yogurt not in inventory.\n",
      "oil: 15\n",
      "cheese: 5\n",
      "butter: 30\n"
     ]
    }
   ],
   "source": [
    "# (c) Implement simple inventory system using dictionaries.\n",
    "inventory={}\n",
    "def add_item(item, quantity):\n",
    "    if item in inventory:\n",
    "        inventory[item]+=quantity\n",
    "    else:\n",
    "        inventory[item]=quantity\n",
    "def remove_item(item, quantity):\n",
    "    if item in inventory:\n",
    "        if inventory[item]>=quantity:\n",
    "            inventory[item]-=quantity\n",
    "        else:\n",
    "            print(f\"Insufficient quantity of {item}.\")\n",
    "    else:\n",
    "        print(f\"{item} not in inventory.\")\n",
    "def display_inventory():\n",
    "    for item, quantity in inventory.items():\n",
    "        print(f\"{item}: {quantity}\")\n",
    "add_item('oil',15)\n",
    "add_item('cheese',25)\n",
    "add_item('butter',30)\n",
    "display_inventory()\n",
    "remove_item('cheese',20)\n",
    "remove_item('yogurt',13)\n",
    "display_inventory()"
   ]
  },
  {
   "cell_type": "code",
   "execution_count": 43,
   "id": "e151cfb4-63ea-42d7-acbe-4eeb32aa7435",
   "metadata": {},
   "outputs": [
    {
     "name": "stdout",
     "output_type": "stream",
     "text": [
      "Most popular category: food\n"
     ]
    }
   ],
   "source": [
    "# (d) Analyze dataset of customer orders to find most popular product category.\n",
    "customer_orders=[\n",
    "    {'product':'fruits','category':'food'},\n",
    "    {'product':'vegetables','category':'food'},\n",
    "    {'product':'shirt','category':'clothes'},\n",
    "    {'product':'trousers','category':'clothes'},\n",
    "    {'product':'burger','category':'food'}\n",
    "]\n",
    "def most_popular_category(customer_orders):\n",
    "    category_count={}\n",
    "    for order in customer_orders:\n",
    "        category=order['category']\n",
    "        if category in category_count:\n",
    "            category_count[category]+=1\n",
    "        else:\n",
    "            category_count[category]=1\n",
    "    popular_category=max(category_count, key=category_count.get)\n",
    "    return popular_category\n",
    "print('Most popular category:', most_popular_category(customer_orders))"
   ]
  },
  {
   "cell_type": "code",
   "execution_count": 45,
   "id": "de2f4565-b73b-4476-b573-d674a1c854e9",
   "metadata": {},
   "outputs": [
    {
     "name": "stdout",
     "output_type": "stream",
     "text": [
      "Average grade of Zoha is 90.00\n",
      "Average grade of Ayesha is 88.00\n",
      "Average grade of Laiba is 87.67\n"
     ]
    }
   ],
   "source": [
    "# (e) Create dictionary to store student grades and calculate average grade.\n",
    "students_grades={\n",
    "    'Zoha':[85,90,95],\n",
    "    'Ayesha':[76,98,90],\n",
    "    'Laiba':[87,98,78]\n",
    "}\n",
    "for student, grades in students_grades.items():\n",
    "    average_grade=sum(grades)/len(grades)\n",
    "    print(f\"Average grade of {student} is {average_grade:.2f}\")"
   ]
  },
  {
   "cell_type": "code",
   "execution_count": 49,
   "id": "758c5790-47ff-4f09-8ef4-b0b66aa03685",
   "metadata": {},
   "outputs": [
    {
     "name": "stdout",
     "output_type": "stream",
     "text": [
      "Total inventory value: 102.5\n",
      "Low stock items: {'cheese': {'quantity': 15, 'price': 1.1}, 'yogurt': {'quantity': 10, 'price': 1.15}}\n"
     ]
    }
   ],
   "source": [
    "# (f) Inventory Management\n",
    "inventory={\n",
    "    'butter':{'quantity':35,'price':1.25},\n",
    "    'oil':{'quantity':24,'price':0.5},\n",
    "    'cheese':{'quantity':15,'price':1.10}\n",
    "}\n",
    "def add_product(product_name, quantity, price):\n",
    "    inventory[product_name]={'quantity':quantity,'price':price}\n",
    "def update_quantity(product_name, quantity):\n",
    "    if product_name in inventory:\n",
    "        inventory[product_name]['quantity']+=quantity\n",
    "    else:\n",
    "        print('Product not in inventory.')\n",
    "def total_inventory_value():\n",
    "    total_value=0\n",
    "    for product in inventory.values():\n",
    "        total_value+=product['quantity']*product['price']\n",
    "    return total_value\n",
    "def low_stock_report(threshold=20):\n",
    "    low_stock_items={product:details for product, details in inventory.items()if details['quantity']<=threshold}\n",
    "    return low_stock_items\n",
    "add_product('yogurt',10,1.15)\n",
    "update_quantity('butter',15)\n",
    "print('Total inventory value:', total_inventory_value())\n",
    "print('Low stock items:', low_stock_report(20))"
   ]
  },
  {
   "cell_type": "code",
   "execution_count": 55,
   "id": "083a065c-e916-418a-acaa-f315202d0a17",
   "metadata": {},
   "outputs": [
    {
     "name": "stdout",
     "output_type": "stream",
     "text": [
      "Students Averages:\n",
      "Zoha: 87.33\n",
      "Maham: 89.33\n",
      "Maryam: 91.33\n",
      "\n",
      "Highest grade in science: Zoha (89)\n",
      "Lowest grade in science: Maryam (87)\n",
      "\n",
      "Students sorted by average grade:\n",
      "Maryam: 91.33\n",
      "Maham: 89.33\n",
      "Zoha: 87.33\n"
     ]
    }
   ],
   "source": [
    "# (g) Student Gradebook\n",
    "gradebook={\n",
    "    'Zoha':{'math':98,'science':89,'urdu':75},\n",
    "    'Maham':{'math':89,'science':88,'urdu':91},\n",
    "    'Maryam':{'math':92,'science':87,'urdu':95}\n",
    "}\n",
    "averages={}\n",
    "for student, grades in gradebook.items():\n",
    "    average=sum(grades.values())/len(grades)\n",
    "    averages[student]=average\n",
    "subject='science'\n",
    "grades_in_subject={student:grades[subject] for student, grades in gradebook.items()}\n",
    "highest_grade_student=max(grades_in_subject, key=grades_in_subject.get)\n",
    "lowest_grade_student=min(grades_in_subject, key=grades_in_subject.get)\n",
    "sorted_students=sorted(averages.items(), key=lambda x:x[1], reverse=True)\n",
    "print('Students Averages:')\n",
    "for student, avg in averages.items():\n",
    "    print(f\"{student}: {avg:.2f}\")\n",
    "print(f\"\\nHighest grade in {subject}: {highest_grade_student} ({grades_in_subject[highest_grade_student]})\")\n",
    "print(f\"Lowest grade in {subject}: {lowest_grade_student} ({grades_in_subject[lowest_grade_student]})\")\n",
    "print(\"\\nStudents sorted by average grade:\")\n",
    "for student, avg in sorted_students:\n",
    "    print(f\"{student}: {avg:.2f}\")"
   ]
  },
  {
   "cell_type": "code",
   "execution_count": 59,
   "id": "384d0201-2918-4e44-bcba-9afef0103c55",
   "metadata": {},
   "outputs": [
    {
     "name": "stdout",
     "output_type": "stream",
     "text": [
      "Cart total: 13000\n",
      "Total after 12% discount: 11440.0\n",
      "Total after 6% tax: 12126.4\n"
     ]
    }
   ],
   "source": [
    "# (h) Simple E-commerce Store\n",
    "products={\n",
    "    'Phone':{'price':2000,'quantity':15},\n",
    "    'Laptop':{'price':1500,'quantity':10},\n",
    "    'Headphones':{'price':1000,'quantity':25}\n",
    "}\n",
    "cart={}\n",
    "def add_to_cart(product_name,quantity):\n",
    "    if product_name in products and products[product_name]['quantity']>=quantity:\n",
    "        if product_name in cart:\n",
    "            cart[product_name]['quantity']+=quantity\n",
    "        else:\n",
    "            cart[product_name]={'price':products[product_name]['price'], 'quantity':quantity}\n",
    "        products[product_name]['quantity']-=quantity\n",
    "    else:\n",
    "        print('Product not available.')\n",
    "def remove_from_cart(product_name):\n",
    "    if product_name in cart:\n",
    "        products[product_name]['quantity']+=cart[product_name]['quantity']\n",
    "        del cart[product_name]\n",
    "    else:\n",
    "        print('Product not in cart.')\n",
    "def calculate_total():\n",
    "    total=sum(item['price']*item['quantity'] for item in cart.values())\n",
    "    return total\n",
    "def apply_discount(total, discount_percentage):\n",
    "    return total-(total*discount_percentage/100)\n",
    "def apply_tax(total, tax_percentage):\n",
    "    return total+(total*tax_percentage/100)\n",
    "add_to_cart('Laptop', 6)\n",
    "add_to_cart('Phone', 2)\n",
    "print('Cart total:', calculate_total())\n",
    "total_after_discount=apply_discount(calculate_total(),12)\n",
    "print('Total after 12% discount:', total_after_discount)\n",
    "total_after_tax=apply_tax(total_after_discount,6)\n",
    "print('Total after 6% tax:', total_after_tax)"
   ]
  },
  {
   "cell_type": "code",
   "execution_count": null,
   "id": "5d0ba91e-f18c-40d6-b0b8-e5136fac5523",
   "metadata": {},
   "outputs": [],
   "source": []
  }
 ],
 "metadata": {
  "kernelspec": {
   "display_name": "Python 3 (ipykernel)",
   "language": "python",
   "name": "python3"
  },
  "language_info": {
   "codemirror_mode": {
    "name": "ipython",
    "version": 3
   },
   "file_extension": ".py",
   "mimetype": "text/x-python",
   "name": "python",
   "nbconvert_exporter": "python",
   "pygments_lexer": "ipython3",
   "version": "3.12.4"
  }
 },
 "nbformat": 4,
 "nbformat_minor": 5
}
